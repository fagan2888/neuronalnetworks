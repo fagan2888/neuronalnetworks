{
 "cells": [
  {
   "cell_type": "markdown",
   "metadata": {},
   "source": [
    "# Tutorial: Illustrating use of the `neuronalnetworks` package\n",
    "\n",
    "## Introuduction\n",
    "\n",
    "The `neuronalnetworks` package facilitates construction and simulation of dynamical neuronal networks. The core of the package consists of efficient implementations of a number of popular neuronal dynamics models (e.g., leaky integrate-and-fire, FitzHugh-Nagumo, Izhikehich). Other modules can be used to construct sophisticated networks by adding batches of independently parametrizable neurons, specifying geometric structure, generating connectivity matrices, and/or defining inputs. These built-in functionalities can be flexibly mixed and matched or combined with the user's own methods (e.g., arbitrary connectivity specification). All network parameters and components are accessible and modifiable before and during the simulation loop, allowing for full control of rich simulation scenarios.\n",
    "\n",
    "This tutorial will walk through the construction and simulation of a network using the `neuronalnetworks` package. We will rapidly build up an elaborate neuronal network and execute a dynamic simulation scenario. While perhaps not biologically maeningful, this simulation will illustrate the range of functionalities offered by this package."
   ]
  },
  {
   "cell_type": "markdown",
   "metadata": {},
   "source": [
    "## Package Setup\n",
    "\n",
    "#### \"Installation\"\n",
    "\n",
    "Simply copy the `neuronalnetworks` package directory into your project directory. \n",
    "\n",
    "(Alternatively, save and import the package from an arbitrary path as you would any python package.)\n",
    "\n",
    "#### Importing modules\n",
    "\n",
    "You can either simply import all package modules (i.e., all models, geometries, connectivities, inputs, plots, etc.):\n",
    "```python\n",
    "from neuronalnetworks import *\n",
    "```\n",
    "\n",
    "Or import individual modules as needed:\n",
    "```python\n",
    "# For example:\n",
    "# - Importing a neuronal dynamics model:\n",
    "from neuronalnetworks import LIFNetwork\n",
    "# - Importing a network input:\n",
    "from neuronalnetworks.inputs.ConstantInput import ConstantInput\n",
    "# - Importing a network geometry:\n",
    "from neuronalnetworks import CylinderSurface\n",
    "# - Importing connectivity matrix generation functions:\n",
    "from neuronalnetworks.connectivities.connectivity_generation import *\n",
    "# - Importing visualization functions:\n",
    "from neuronalnetworks.visualization.plots import *\n",
    "from neuronalnetworks.visualization.figures import *\n",
    "```"
   ]
  },
  {
   "cell_type": "code",
   "execution_count": 3,
   "metadata": {},
   "outputs": [
    {
     "ename": "ValueError",
     "evalue": "Attempted relative import in non-package",
     "output_type": "error",
     "traceback": [
      "\u001b[0;31m---------------------------------------------------------------------------\u001b[0m",
      "\u001b[0;31mValueError\u001b[0m                                Traceback (most recent call last)",
      "\u001b[0;32m<ipython-input-3-04c191d58ff6>\u001b[0m in \u001b[0;36m<module>\u001b[0;34m()\u001b[0m\n\u001b[0;32m----> 1\u001b[0;31m \u001b[0;32mfrom\u001b[0m \u001b[0;34m.\u001b[0m\u001b[0;34m.\u001b[0m \u001b[0;32mimport\u001b[0m \u001b[0;34m*\u001b[0m\u001b[0;34m\u001b[0m\u001b[0m\n\u001b[0m",
      "\u001b[0;31mValueError\u001b[0m: Attempted relative import in non-package"
     ]
    }
   ],
   "source": [
    "from .. import *"
   ]
  },
  {
   "cell_type": "markdown",
   "metadata": {},
   "source": [
    "## Constructing a neuronal network\n"
   ]
  },
  {
   "cell_type": "code",
   "execution_count": null,
   "metadata": {},
   "outputs": [],
   "source": []
  }
 ],
 "metadata": {
  "kernelspec": {
   "display_name": "Python 2",
   "language": "python",
   "name": "python2"
  },
  "language_info": {
   "codemirror_mode": {
    "name": "ipython",
    "version": 2
   },
   "file_extension": ".py",
   "mimetype": "text/x-python",
   "name": "python",
   "nbconvert_exporter": "python",
   "pygments_lexer": "ipython2",
   "version": "2.7.13"
  }
 },
 "nbformat": 4,
 "nbformat_minor": 2
}
